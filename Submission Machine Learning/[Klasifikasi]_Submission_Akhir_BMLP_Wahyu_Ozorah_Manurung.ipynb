{
  "nbformat": 4,
  "nbformat_minor": 0,
  "metadata": {
    "colab": {
      "provenance": []
    },
    "kernelspec": {
      "name": "python3",
      "display_name": "Python 3"
    },
    "language_info": {
      "name": "python"
    }
  },
  "cells": [
    {
      "cell_type": "markdown",
      "source": [
        "# **1. Import Library**"
      ],
      "metadata": {
        "id": "fKADPWcFKlj3"
      }
    },
    {
      "cell_type": "markdown",
      "source": [
        "Pada tahap ini, Anda perlu mengimpor beberapa pustaka (library) Python yang dibutuhkan untuk analisis data dan pembangunan model machine learning."
      ],
      "metadata": {
        "id": "LgA3ERnVn84N"
      }
    },
    {
      "cell_type": "code",
      "source": [
        "import pandas as pd\n",
        "import seaborn as sns\n",
        "import matplotlib.pyplot as plt\n",
        "import numpy as np\n",
        "\n",
        "\n",
        "from sklearn.metrics import accuracy_score, classification_report\n",
        "from sklearn.model_selection import train_test_split\n",
        "from sklearn.linear_model import LogisticRegression\n",
        "from sklearn.ensemble import RandomForestClassifier\n",
        "from sklearn.tree import DecisionTreeClassifier\n",
        "from sklearn.metrics import accuracy_score, classification_report, confusion_matrix\n",
        "from sklearn.model_selection import GridSearchCV, RandomizedSearchCV\n",
        "from sklearn.svm import SVC\n"
      ],
      "metadata": {
        "id": "BlmvjLY9M4Yj"
      },
      "execution_count": 54,
      "outputs": []
    },
    {
      "cell_type": "markdown",
      "source": [
        "# **2. Memuat Dataset dari Hasil Clustering**"
      ],
      "metadata": {
        "id": "f3YIEnAFKrKL"
      }
    },
    {
      "cell_type": "markdown",
      "source": [
        "Memuat dataset hasil clustering dari file CSV ke dalam variabel DataFrame."
      ],
      "metadata": {
        "id": "Ey3ItwTen_7E"
      }
    },
    {
      "cell_type": "code",
      "source": [
        "df = pd.read_csv(\"marketing_campaign_Cluster .csv\")\n",
        "df.head()"
      ],
      "metadata": {
        "id": "GHCGNTyrM5fS",
        "colab": {
          "base_uri": "https://localhost:8080/",
          "height": 256
        },
        "outputId": "ea84ccdb-df82-4593-fb13-d3ff7d4530cc"
      },
      "execution_count": 55,
      "outputs": [
        {
          "output_type": "execute_result",
          "data": {
            "text/plain": [
              "     ID  Year_Birth   Education Marital_Status       Income  Kidhome  \\\n",
              "0  5524        1957  Graduation         Single  58169.81346        0   \n",
              "1  2174        1954  Graduation         Single  46312.11902        1   \n",
              "2  4141        1965  Graduation       Together  71717.58626        0   \n",
              "3  6182        1984  Graduation       Together  26507.73841        1   \n",
              "4  5324        1981         PhD        Married  58325.65055        1   \n",
              "\n",
              "   Teenhome Dt_Customer  Recency  MntWines  ...  AcceptedCmp3  AcceptedCmp4  \\\n",
              "0         0    4/9/2012       58       635  ...             0             0   \n",
              "1         1    8/3/2014       38        11  ...             0             0   \n",
              "2         0  21-08-2013       26       426  ...             0             0   \n",
              "3         0   10/2/2014       26        11  ...             0             0   \n",
              "4         0  19-01-2014       94       173  ...             0             0   \n",
              "\n",
              "   AcceptedCmp5  AcceptedCmp1  AcceptedCmp2  Complain  Z_CostContact  \\\n",
              "0             0             0             0         0              3   \n",
              "1             0             0             0         0              3   \n",
              "2             0             0             0         0              3   \n",
              "3             0             0             0         0              3   \n",
              "4             0             0             0         0              3   \n",
              "\n",
              "   Z_Revenue  Response  cluster  \n",
              "0         11         1        1  \n",
              "1         11         0        0  \n",
              "2         11         0        1  \n",
              "3         11         0        0  \n",
              "4         11         0        0  \n",
              "\n",
              "[5 rows x 30 columns]"
            ],
            "text/html": [
              "\n",
              "  <div id=\"df-7e08c715-d661-4f5d-97c1-19089bbc1199\" class=\"colab-df-container\">\n",
              "    <div>\n",
              "<style scoped>\n",
              "    .dataframe tbody tr th:only-of-type {\n",
              "        vertical-align: middle;\n",
              "    }\n",
              "\n",
              "    .dataframe tbody tr th {\n",
              "        vertical-align: top;\n",
              "    }\n",
              "\n",
              "    .dataframe thead th {\n",
              "        text-align: right;\n",
              "    }\n",
              "</style>\n",
              "<table border=\"1\" class=\"dataframe\">\n",
              "  <thead>\n",
              "    <tr style=\"text-align: right;\">\n",
              "      <th></th>\n",
              "      <th>ID</th>\n",
              "      <th>Year_Birth</th>\n",
              "      <th>Education</th>\n",
              "      <th>Marital_Status</th>\n",
              "      <th>Income</th>\n",
              "      <th>Kidhome</th>\n",
              "      <th>Teenhome</th>\n",
              "      <th>Dt_Customer</th>\n",
              "      <th>Recency</th>\n",
              "      <th>MntWines</th>\n",
              "      <th>...</th>\n",
              "      <th>AcceptedCmp3</th>\n",
              "      <th>AcceptedCmp4</th>\n",
              "      <th>AcceptedCmp5</th>\n",
              "      <th>AcceptedCmp1</th>\n",
              "      <th>AcceptedCmp2</th>\n",
              "      <th>Complain</th>\n",
              "      <th>Z_CostContact</th>\n",
              "      <th>Z_Revenue</th>\n",
              "      <th>Response</th>\n",
              "      <th>cluster</th>\n",
              "    </tr>\n",
              "  </thead>\n",
              "  <tbody>\n",
              "    <tr>\n",
              "      <th>0</th>\n",
              "      <td>5524</td>\n",
              "      <td>1957</td>\n",
              "      <td>Graduation</td>\n",
              "      <td>Single</td>\n",
              "      <td>58169.81346</td>\n",
              "      <td>0</td>\n",
              "      <td>0</td>\n",
              "      <td>4/9/2012</td>\n",
              "      <td>58</td>\n",
              "      <td>635</td>\n",
              "      <td>...</td>\n",
              "      <td>0</td>\n",
              "      <td>0</td>\n",
              "      <td>0</td>\n",
              "      <td>0</td>\n",
              "      <td>0</td>\n",
              "      <td>0</td>\n",
              "      <td>3</td>\n",
              "      <td>11</td>\n",
              "      <td>1</td>\n",
              "      <td>1</td>\n",
              "    </tr>\n",
              "    <tr>\n",
              "      <th>1</th>\n",
              "      <td>2174</td>\n",
              "      <td>1954</td>\n",
              "      <td>Graduation</td>\n",
              "      <td>Single</td>\n",
              "      <td>46312.11902</td>\n",
              "      <td>1</td>\n",
              "      <td>1</td>\n",
              "      <td>8/3/2014</td>\n",
              "      <td>38</td>\n",
              "      <td>11</td>\n",
              "      <td>...</td>\n",
              "      <td>0</td>\n",
              "      <td>0</td>\n",
              "      <td>0</td>\n",
              "      <td>0</td>\n",
              "      <td>0</td>\n",
              "      <td>0</td>\n",
              "      <td>3</td>\n",
              "      <td>11</td>\n",
              "      <td>0</td>\n",
              "      <td>0</td>\n",
              "    </tr>\n",
              "    <tr>\n",
              "      <th>2</th>\n",
              "      <td>4141</td>\n",
              "      <td>1965</td>\n",
              "      <td>Graduation</td>\n",
              "      <td>Together</td>\n",
              "      <td>71717.58626</td>\n",
              "      <td>0</td>\n",
              "      <td>0</td>\n",
              "      <td>21-08-2013</td>\n",
              "      <td>26</td>\n",
              "      <td>426</td>\n",
              "      <td>...</td>\n",
              "      <td>0</td>\n",
              "      <td>0</td>\n",
              "      <td>0</td>\n",
              "      <td>0</td>\n",
              "      <td>0</td>\n",
              "      <td>0</td>\n",
              "      <td>3</td>\n",
              "      <td>11</td>\n",
              "      <td>0</td>\n",
              "      <td>1</td>\n",
              "    </tr>\n",
              "    <tr>\n",
              "      <th>3</th>\n",
              "      <td>6182</td>\n",
              "      <td>1984</td>\n",
              "      <td>Graduation</td>\n",
              "      <td>Together</td>\n",
              "      <td>26507.73841</td>\n",
              "      <td>1</td>\n",
              "      <td>0</td>\n",
              "      <td>10/2/2014</td>\n",
              "      <td>26</td>\n",
              "      <td>11</td>\n",
              "      <td>...</td>\n",
              "      <td>0</td>\n",
              "      <td>0</td>\n",
              "      <td>0</td>\n",
              "      <td>0</td>\n",
              "      <td>0</td>\n",
              "      <td>0</td>\n",
              "      <td>3</td>\n",
              "      <td>11</td>\n",
              "      <td>0</td>\n",
              "      <td>0</td>\n",
              "    </tr>\n",
              "    <tr>\n",
              "      <th>4</th>\n",
              "      <td>5324</td>\n",
              "      <td>1981</td>\n",
              "      <td>PhD</td>\n",
              "      <td>Married</td>\n",
              "      <td>58325.65055</td>\n",
              "      <td>1</td>\n",
              "      <td>0</td>\n",
              "      <td>19-01-2014</td>\n",
              "      <td>94</td>\n",
              "      <td>173</td>\n",
              "      <td>...</td>\n",
              "      <td>0</td>\n",
              "      <td>0</td>\n",
              "      <td>0</td>\n",
              "      <td>0</td>\n",
              "      <td>0</td>\n",
              "      <td>0</td>\n",
              "      <td>3</td>\n",
              "      <td>11</td>\n",
              "      <td>0</td>\n",
              "      <td>0</td>\n",
              "    </tr>\n",
              "  </tbody>\n",
              "</table>\n",
              "<p>5 rows × 30 columns</p>\n",
              "</div>\n",
              "    <div class=\"colab-df-buttons\">\n",
              "\n",
              "  <div class=\"colab-df-container\">\n",
              "    <button class=\"colab-df-convert\" onclick=\"convertToInteractive('df-7e08c715-d661-4f5d-97c1-19089bbc1199')\"\n",
              "            title=\"Convert this dataframe to an interactive table.\"\n",
              "            style=\"display:none;\">\n",
              "\n",
              "  <svg xmlns=\"http://www.w3.org/2000/svg\" height=\"24px\" viewBox=\"0 -960 960 960\">\n",
              "    <path d=\"M120-120v-720h720v720H120Zm60-500h600v-160H180v160Zm220 220h160v-160H400v160Zm0 220h160v-160H400v160ZM180-400h160v-160H180v160Zm440 0h160v-160H620v160ZM180-180h160v-160H180v160Zm440 0h160v-160H620v160Z\"/>\n",
              "  </svg>\n",
              "    </button>\n",
              "\n",
              "  <style>\n",
              "    .colab-df-container {\n",
              "      display:flex;\n",
              "      gap: 12px;\n",
              "    }\n",
              "\n",
              "    .colab-df-convert {\n",
              "      background-color: #E8F0FE;\n",
              "      border: none;\n",
              "      border-radius: 50%;\n",
              "      cursor: pointer;\n",
              "      display: none;\n",
              "      fill: #1967D2;\n",
              "      height: 32px;\n",
              "      padding: 0 0 0 0;\n",
              "      width: 32px;\n",
              "    }\n",
              "\n",
              "    .colab-df-convert:hover {\n",
              "      background-color: #E2EBFA;\n",
              "      box-shadow: 0px 1px 2px rgba(60, 64, 67, 0.3), 0px 1px 3px 1px rgba(60, 64, 67, 0.15);\n",
              "      fill: #174EA6;\n",
              "    }\n",
              "\n",
              "    .colab-df-buttons div {\n",
              "      margin-bottom: 4px;\n",
              "    }\n",
              "\n",
              "    [theme=dark] .colab-df-convert {\n",
              "      background-color: #3B4455;\n",
              "      fill: #D2E3FC;\n",
              "    }\n",
              "\n",
              "    [theme=dark] .colab-df-convert:hover {\n",
              "      background-color: #434B5C;\n",
              "      box-shadow: 0px 1px 3px 1px rgba(0, 0, 0, 0.15);\n",
              "      filter: drop-shadow(0px 1px 2px rgba(0, 0, 0, 0.3));\n",
              "      fill: #FFFFFF;\n",
              "    }\n",
              "  </style>\n",
              "\n",
              "    <script>\n",
              "      const buttonEl =\n",
              "        document.querySelector('#df-7e08c715-d661-4f5d-97c1-19089bbc1199 button.colab-df-convert');\n",
              "      buttonEl.style.display =\n",
              "        google.colab.kernel.accessAllowed ? 'block' : 'none';\n",
              "\n",
              "      async function convertToInteractive(key) {\n",
              "        const element = document.querySelector('#df-7e08c715-d661-4f5d-97c1-19089bbc1199');\n",
              "        const dataTable =\n",
              "          await google.colab.kernel.invokeFunction('convertToInteractive',\n",
              "                                                    [key], {});\n",
              "        if (!dataTable) return;\n",
              "\n",
              "        const docLinkHtml = 'Like what you see? Visit the ' +\n",
              "          '<a target=\"_blank\" href=https://colab.research.google.com/notebooks/data_table.ipynb>data table notebook</a>'\n",
              "          + ' to learn more about interactive tables.';\n",
              "        element.innerHTML = '';\n",
              "        dataTable['output_type'] = 'display_data';\n",
              "        await google.colab.output.renderOutput(dataTable, element);\n",
              "        const docLink = document.createElement('div');\n",
              "        docLink.innerHTML = docLinkHtml;\n",
              "        element.appendChild(docLink);\n",
              "      }\n",
              "    </script>\n",
              "  </div>\n",
              "\n",
              "\n",
              "<div id=\"df-7867ed8d-dc53-4906-b6f7-5638e0f13d9e\">\n",
              "  <button class=\"colab-df-quickchart\" onclick=\"quickchart('df-7867ed8d-dc53-4906-b6f7-5638e0f13d9e')\"\n",
              "            title=\"Suggest charts\"\n",
              "            style=\"display:none;\">\n",
              "\n",
              "<svg xmlns=\"http://www.w3.org/2000/svg\" height=\"24px\"viewBox=\"0 0 24 24\"\n",
              "     width=\"24px\">\n",
              "    <g>\n",
              "        <path d=\"M19 3H5c-1.1 0-2 .9-2 2v14c0 1.1.9 2 2 2h14c1.1 0 2-.9 2-2V5c0-1.1-.9-2-2-2zM9 17H7v-7h2v7zm4 0h-2V7h2v10zm4 0h-2v-4h2v4z\"/>\n",
              "    </g>\n",
              "</svg>\n",
              "  </button>\n",
              "\n",
              "<style>\n",
              "  .colab-df-quickchart {\n",
              "      --bg-color: #E8F0FE;\n",
              "      --fill-color: #1967D2;\n",
              "      --hover-bg-color: #E2EBFA;\n",
              "      --hover-fill-color: #174EA6;\n",
              "      --disabled-fill-color: #AAA;\n",
              "      --disabled-bg-color: #DDD;\n",
              "  }\n",
              "\n",
              "  [theme=dark] .colab-df-quickchart {\n",
              "      --bg-color: #3B4455;\n",
              "      --fill-color: #D2E3FC;\n",
              "      --hover-bg-color: #434B5C;\n",
              "      --hover-fill-color: #FFFFFF;\n",
              "      --disabled-bg-color: #3B4455;\n",
              "      --disabled-fill-color: #666;\n",
              "  }\n",
              "\n",
              "  .colab-df-quickchart {\n",
              "    background-color: var(--bg-color);\n",
              "    border: none;\n",
              "    border-radius: 50%;\n",
              "    cursor: pointer;\n",
              "    display: none;\n",
              "    fill: var(--fill-color);\n",
              "    height: 32px;\n",
              "    padding: 0;\n",
              "    width: 32px;\n",
              "  }\n",
              "\n",
              "  .colab-df-quickchart:hover {\n",
              "    background-color: var(--hover-bg-color);\n",
              "    box-shadow: 0 1px 2px rgba(60, 64, 67, 0.3), 0 1px 3px 1px rgba(60, 64, 67, 0.15);\n",
              "    fill: var(--button-hover-fill-color);\n",
              "  }\n",
              "\n",
              "  .colab-df-quickchart-complete:disabled,\n",
              "  .colab-df-quickchart-complete:disabled:hover {\n",
              "    background-color: var(--disabled-bg-color);\n",
              "    fill: var(--disabled-fill-color);\n",
              "    box-shadow: none;\n",
              "  }\n",
              "\n",
              "  .colab-df-spinner {\n",
              "    border: 2px solid var(--fill-color);\n",
              "    border-color: transparent;\n",
              "    border-bottom-color: var(--fill-color);\n",
              "    animation:\n",
              "      spin 1s steps(1) infinite;\n",
              "  }\n",
              "\n",
              "  @keyframes spin {\n",
              "    0% {\n",
              "      border-color: transparent;\n",
              "      border-bottom-color: var(--fill-color);\n",
              "      border-left-color: var(--fill-color);\n",
              "    }\n",
              "    20% {\n",
              "      border-color: transparent;\n",
              "      border-left-color: var(--fill-color);\n",
              "      border-top-color: var(--fill-color);\n",
              "    }\n",
              "    30% {\n",
              "      border-color: transparent;\n",
              "      border-left-color: var(--fill-color);\n",
              "      border-top-color: var(--fill-color);\n",
              "      border-right-color: var(--fill-color);\n",
              "    }\n",
              "    40% {\n",
              "      border-color: transparent;\n",
              "      border-right-color: var(--fill-color);\n",
              "      border-top-color: var(--fill-color);\n",
              "    }\n",
              "    60% {\n",
              "      border-color: transparent;\n",
              "      border-right-color: var(--fill-color);\n",
              "    }\n",
              "    80% {\n",
              "      border-color: transparent;\n",
              "      border-right-color: var(--fill-color);\n",
              "      border-bottom-color: var(--fill-color);\n",
              "    }\n",
              "    90% {\n",
              "      border-color: transparent;\n",
              "      border-bottom-color: var(--fill-color);\n",
              "    }\n",
              "  }\n",
              "</style>\n",
              "\n",
              "  <script>\n",
              "    async function quickchart(key) {\n",
              "      const quickchartButtonEl =\n",
              "        document.querySelector('#' + key + ' button');\n",
              "      quickchartButtonEl.disabled = true;  // To prevent multiple clicks.\n",
              "      quickchartButtonEl.classList.add('colab-df-spinner');\n",
              "      try {\n",
              "        const charts = await google.colab.kernel.invokeFunction(\n",
              "            'suggestCharts', [key], {});\n",
              "      } catch (error) {\n",
              "        console.error('Error during call to suggestCharts:', error);\n",
              "      }\n",
              "      quickchartButtonEl.classList.remove('colab-df-spinner');\n",
              "      quickchartButtonEl.classList.add('colab-df-quickchart-complete');\n",
              "    }\n",
              "    (() => {\n",
              "      let quickchartButtonEl =\n",
              "        document.querySelector('#df-7867ed8d-dc53-4906-b6f7-5638e0f13d9e button');\n",
              "      quickchartButtonEl.style.display =\n",
              "        google.colab.kernel.accessAllowed ? 'block' : 'none';\n",
              "    })();\n",
              "  </script>\n",
              "</div>\n",
              "\n",
              "    </div>\n",
              "  </div>\n"
            ],
            "application/vnd.google.colaboratory.intrinsic+json": {
              "type": "dataframe",
              "variable_name": "df"
            }
          },
          "metadata": {},
          "execution_count": 55
        }
      ]
    },
    {
      "cell_type": "code",
      "source": [
        "print(\"\\nInformasi dataset:\")\n",
        "df.info()"
      ],
      "metadata": {
        "colab": {
          "base_uri": "https://localhost:8080/"
        },
        "id": "PlEocURskbFp",
        "outputId": "d3f6448f-fc24-4368-9fd3-617e6ff61a55"
      },
      "execution_count": 56,
      "outputs": [
        {
          "output_type": "stream",
          "name": "stdout",
          "text": [
            "\n",
            "Informasi dataset:\n",
            "<class 'pandas.core.frame.DataFrame'>\n",
            "RangeIndex: 2240 entries, 0 to 2239\n",
            "Data columns (total 30 columns):\n",
            " #   Column               Non-Null Count  Dtype  \n",
            "---  ------               --------------  -----  \n",
            " 0   ID                   2240 non-null   int64  \n",
            " 1   Year_Birth           2240 non-null   int64  \n",
            " 2   Education            2240 non-null   object \n",
            " 3   Marital_Status       2240 non-null   object \n",
            " 4   Income               2240 non-null   float64\n",
            " 5   Kidhome              2240 non-null   int64  \n",
            " 6   Teenhome             2240 non-null   int64  \n",
            " 7   Dt_Customer          2240 non-null   object \n",
            " 8   Recency              2240 non-null   int64  \n",
            " 9   MntWines             2240 non-null   int64  \n",
            " 10  MntFruits            2240 non-null   int64  \n",
            " 11  MntMeatProducts      2240 non-null   int64  \n",
            " 12  MntFishProducts      2240 non-null   int64  \n",
            " 13  MntSweetProducts     2240 non-null   int64  \n",
            " 14  MntGoldProds         2240 non-null   int64  \n",
            " 15  NumDealsPurchases    2240 non-null   int64  \n",
            " 16  NumWebPurchases      2240 non-null   int64  \n",
            " 17  NumCatalogPurchases  2240 non-null   int64  \n",
            " 18  NumStorePurchases    2240 non-null   int64  \n",
            " 19  NumWebVisitsMonth    2240 non-null   int64  \n",
            " 20  AcceptedCmp3         2240 non-null   int64  \n",
            " 21  AcceptedCmp4         2240 non-null   int64  \n",
            " 22  AcceptedCmp5         2240 non-null   int64  \n",
            " 23  AcceptedCmp1         2240 non-null   int64  \n",
            " 24  AcceptedCmp2         2240 non-null   int64  \n",
            " 25  Complain             2240 non-null   int64  \n",
            " 26  Z_CostContact        2240 non-null   int64  \n",
            " 27  Z_Revenue            2240 non-null   int64  \n",
            " 28  Response             2240 non-null   int64  \n",
            " 29  cluster              2240 non-null   int64  \n",
            "dtypes: float64(1), int64(26), object(3)\n",
            "memory usage: 525.1+ KB\n"
          ]
        }
      ]
    },
    {
      "cell_type": "code",
      "source": [
        "print(\"\\nData yang Hilang pada Setiap Kolom :\")\n",
        "missing_values_before = df.isnull().sum()\n",
        "print(missing_values_before)\n",
        "\n",
        "# Mengecek duplikasi dalam dataset\n",
        "print(\"\\nJumlah Data Duplikat:\", df.duplicated().sum())"
      ],
      "metadata": {
        "colab": {
          "base_uri": "https://localhost:8080/"
        },
        "id": "WpSmIxOGnNWB",
        "outputId": "f0d3809b-f9a4-46ff-94e8-674eb42279ba"
      },
      "execution_count": 57,
      "outputs": [
        {
          "output_type": "stream",
          "name": "stdout",
          "text": [
            "\n",
            "Data yang Hilang pada Setiap Kolom :\n",
            "ID                     0\n",
            "Year_Birth             0\n",
            "Education              0\n",
            "Marital_Status         0\n",
            "Income                 0\n",
            "Kidhome                0\n",
            "Teenhome               0\n",
            "Dt_Customer            0\n",
            "Recency                0\n",
            "MntWines               0\n",
            "MntFruits              0\n",
            "MntMeatProducts        0\n",
            "MntFishProducts        0\n",
            "MntSweetProducts       0\n",
            "MntGoldProds           0\n",
            "NumDealsPurchases      0\n",
            "NumWebPurchases        0\n",
            "NumCatalogPurchases    0\n",
            "NumStorePurchases      0\n",
            "NumWebVisitsMonth      0\n",
            "AcceptedCmp3           0\n",
            "AcceptedCmp4           0\n",
            "AcceptedCmp5           0\n",
            "AcceptedCmp1           0\n",
            "AcceptedCmp2           0\n",
            "Complain               0\n",
            "Z_CostContact          0\n",
            "Z_Revenue              0\n",
            "Response               0\n",
            "cluster                0\n",
            "dtype: int64\n",
            "\n",
            "Jumlah Data Duplikat: 0\n"
          ]
        }
      ]
    },
    {
      "cell_type": "markdown",
      "source": [
        "# **3. Data Splitting**"
      ],
      "metadata": {
        "id": "KkPem5eWL2UP"
      }
    },
    {
      "cell_type": "markdown",
      "source": [
        "Tahap Data Splitting bertujuan untuk memisahkan dataset menjadi dua bagian: data latih (training set) dan data uji (test set)."
      ],
      "metadata": {
        "id": "YYj1rl_JNI9Y"
      }
    },
    {
      "cell_type": "code",
      "source": [
        "# Hapus kolom yang tidak diperlukan\n",
        "df.drop(columns=['ID', 'Dt_Customer', 'Z_CostContact', 'Z_Revenue'], inplace=True)\n",
        "\n",
        "# One-Hot Encoding untuk kolom kategorikal\n",
        "categorical_cols = ['Education', 'Marital_Status']\n",
        "df = pd.get_dummies(df, columns=categorical_cols, drop_first=True)\n",
        "\n",
        "# Pisahkan fitur (X) dan label (y)\n",
        "X = df.drop(columns=['cluster'])  # 'Cluster' adalah label hasil clustering\n",
        "y = df['cluster']\n",
        "\n",
        "# Memisahkan data menjadi training set (80%) dan test set (20%)\n",
        "X_train, X_test, y_train, y_test = train_test_split(X, y, test_size=0.2, random_state=42)\n",
        "\n",
        "# Verifikasi bentuk data\n",
        "print(\"Data Training:\")\n",
        "print(f\"Fitur: {X_train.shape}, Label: {y_train.shape}\")\n",
        "print(\"\\nData Testing:\")\n",
        "print(f\"Fitur: {X_test.shape}, Label: {y_test.shape}\")"
      ],
      "metadata": {
        "id": "OubAW-7ONKVj",
        "colab": {
          "base_uri": "https://localhost:8080/"
        },
        "outputId": "44abe5ec-eee1-4a51-f96a-edc1884ed6df"
      },
      "execution_count": 58,
      "outputs": [
        {
          "output_type": "stream",
          "name": "stdout",
          "text": [
            "Data Training:\n",
            "Fitur: (1792, 32), Label: (1792,)\n",
            "\n",
            "Data Testing:\n",
            "Fitur: (448, 32), Label: (448,)\n"
          ]
        }
      ]
    },
    {
      "cell_type": "markdown",
      "source": [
        "# **4. Membangun Model Klasifikasi**\n"
      ],
      "metadata": {
        "id": "IVPbB03CMhTT"
      }
    },
    {
      "cell_type": "markdown",
      "source": [
        "## **a. Membangun Model Klasifikasi**"
      ],
      "metadata": {
        "id": "Ned1pL9zMmBK"
      }
    },
    {
      "cell_type": "markdown",
      "source": [
        "Setelah memilih algoritma klasifikasi yang sesuai, langkah selanjutnya adalah melatih model menggunakan data latih.\n",
        "\n",
        "Berikut adalah rekomendasi tahapannya.\n",
        "1. Pilih algoritma klasifikasi yang sesuai, seperti Logistic Regression, Decision Tree, Random Forest, atau K-Nearest Neighbors (KNN).\n",
        "2. Latih model menggunakan data latih."
      ],
      "metadata": {
        "id": "WAWzPOE4Nkti"
      }
    },
    {
      "cell_type": "code",
      "source": [
        "# Latih Model Logistic Regression\n",
        "logreg = LogisticRegression(solver='saga', max_iter=500, random_state=42)\n",
        "logreg.fit(X_train, y_train)  # Tanpa normalisasi ulang\n",
        "\n",
        "# Prediksi\n",
        "y_pred = logreg.predict(X_test)\n",
        "\n",
        "print(\"\\nModel Logistic Regression telah selesai dilatih!\\n\")\n"
      ],
      "metadata": {
        "id": "4JYxBe87NLDk",
        "colab": {
          "base_uri": "https://localhost:8080/"
        },
        "outputId": "1ebaa113-51d5-4b67-c173-97753be7e6a9"
      },
      "execution_count": 59,
      "outputs": [
        {
          "output_type": "stream",
          "name": "stdout",
          "text": [
            "\n",
            "Model Logistic Regression telah selesai dilatih!\n",
            "\n"
          ]
        },
        {
          "output_type": "stream",
          "name": "stderr",
          "text": [
            "/usr/local/lib/python3.11/dist-packages/sklearn/linear_model/_sag.py:348: ConvergenceWarning: The max_iter was reached which means the coef_ did not converge\n",
            "  warnings.warn(\n"
          ]
        }
      ]
    },
    {
      "cell_type": "markdown",
      "source": [
        "Logistic Regression adalah algoritma klasifikasi yang digunakan untuk memprediksi probabilitas suatu data termasuk dalam salah satu dari dua kelas yang berbeda. Model ini bekerja dengan menghitung fungsi logistik (sigmoid) terhadap kombinasi linear dari fitur input, menghasilkan nilai antara 0 dan 1 yang kemudian digunakan untuk menentukan kelas. Dalam implementasi ini, model dilatih menggunakan solver 'saga' dengan 500 iterasi tanpa normalisasi ulang, karena dataset sudah dinormalisasi saat proses clustering. Setelah model dilatih dengan data latih (X_train, y_train), dilakukan prediksi terhadap data uji (X_test), dan hasil prediksi digunakan untuk mengevaluasi performa model."
      ],
      "metadata": {
        "id": "7BLeD0BoC6uW"
      }
    },
    {
      "cell_type": "code",
      "source": [
        "# Model Decision Tree\n",
        "dt_model = DecisionTreeClassifier(random_state=42)\n",
        "dt_model.fit(X_train, y_train)\n",
        "y_pred_dt = dt_model.predict(X_test)\n",
        "\n",
        "print(\"\\nModel DecisionTree telah selesai dilatih!\\n\")"
      ],
      "metadata": {
        "colab": {
          "base_uri": "https://localhost:8080/"
        },
        "id": "Y3pxy1QoCK2P",
        "outputId": "e64dc418-2935-4336-ee59-589e88b2d22f"
      },
      "execution_count": 60,
      "outputs": [
        {
          "output_type": "stream",
          "name": "stdout",
          "text": [
            "\n",
            "Model DecisionTree telah selesai dilatih!\n",
            "\n"
          ]
        }
      ]
    },
    {
      "cell_type": "markdown",
      "source": [
        "Decision Tree adalah algoritma klasifikasi yang membangun model dalam bentuk struktur pohon keputusan. Model ini bekerja dengan membagi data ke dalam kelompok berdasarkan aturan yang dihasilkan dari fitur yang paling berkontribusi dalam memisahkan kelas. Pada implementasi ini, DecisionTreeClassifier dilatih menggunakan dataset tanpa normalisasi ulang, dengan random_state=42 untuk memastikan hasil yang konsisten. Setelah proses pelatihan pada data latih (X_train, y_train), model digunakan untuk memprediksi data uji (X_test), dan hasilnya dapat dievaluasi lebih lanjut untuk melihat kinerja klasifikasi."
      ],
      "metadata": {
        "id": "h4jlg1vQDOfJ"
      }
    },
    {
      "cell_type": "code",
      "source": [
        "# Model SVM\n",
        "svm_model = SVC(kernel='rbf', C=1.0, gamma='scale', random_state=42)\n",
        "svm_model.fit(X_train, y_train)\n",
        "\n",
        "# Prediksi\n",
        "y_train_pred_svm = svm_model.predict(X_train)\n",
        "y_test_pred_svm = svm_model.predict(X_test)\n",
        "\n",
        "# Evaluasi akurasi training & testing\n",
        "train_accuracy_svm = accuracy_score(y_train, y_train_pred_svm)\n",
        "test_accuracy_svm = accuracy_score(y_test, y_test_pred_svm)\n"
      ],
      "metadata": {
        "id": "nKAO05qICVUU"
      },
      "execution_count": 61,
      "outputs": []
    },
    {
      "cell_type": "markdown",
      "source": [
        "Support Vector Machine (SVM) adalah algoritma pembelajaran mesin yang digunakan untuk klasifikasi dengan mencari hyperplane optimal yang memisahkan kelas dalam ruang fitur berdimensi tinggi. Model ini bekerja dengan menggunakan kernel trick untuk menangani data yang tidak terpisahkan secara linear, di mana dalam implementasi ini digunakan kernel 'rbf' (Radial Basis Function) yang efektif dalam menangani pola yang kompleks. Parameter C=1.0 digunakan sebagai faktor regularisasi untuk menyeimbangkan margin yang lebih besar dengan kesalahan klasifikasi, sementara gamma='scale' secara otomatis menyesuaikan nilai gamma berdasarkan jumlah fitur yang ada. Model dilatih menggunakan dataset X_train dan y_train, lalu dilakukan prediksi pada data uji X_test untuk mengukur performanya. Akurasi training dan testing kemudian dievaluasi untuk menentukan seberapa baik model dapat menggeneralisasi data baru. Dengan penggunaan random_state=42, hasil yang diperoleh dapat direproduksi secara konsisten."
      ],
      "metadata": {
        "id": "vG9ZF8cFDfT0"
      }
    },
    {
      "cell_type": "markdown",
      "source": [
        "## **b. Evaluasi Model Klasifikasi**"
      ],
      "metadata": {
        "id": "ergzChZFEL-O"
      }
    },
    {
      "cell_type": "markdown",
      "source": [
        "Berikut adalah **rekomendasi** tahapannya.\n",
        "1. Lakukan prediksi menggunakan data uji.\n",
        "2. Hitung metrik evaluasi seperti Accuracy dan F1-Score (Opsional: Precision dan Recall).\n",
        "3. Buat confusion matrix untuk melihat detail prediksi benar dan salah."
      ],
      "metadata": {
        "id": "zOm68u-7NpLT"
      }
    },
    {
      "cell_type": "code",
      "source": [
        "# Evaluasi Model\n",
        "print(\"Akurasi Model:\", accuracy_score(y_test, y_pred))\n",
        "print(\"\\nLaporan Klasifikasi:\\n\", classification_report(y_test, y_pred))\n",
        "\n",
        "train_accuracy_lr = accuracy_score(y_train, logreg.predict(X_train)) # kalkulasi training\n",
        "print(f\"Akurasi Training: {train_accuracy_lr:.4f}\")\n",
        "print(f\"Akurasi Testing : {accuracy_score(y_test, y_pred):.4f}\")\n",
        "\n",
        "# Confusion Matrix\n",
        "cm = confusion_matrix(y_test, y_pred)\n",
        "\n",
        "# Visualisasi Confusion Matrix\n",
        "plt.figure(figsize=(5, 4))\n",
        "sns.heatmap(cm, annot=True, fmt=\"d\", cmap=\"Blues\", xticklabels=[0, 1], yticklabels=[0, 1])\n",
        "plt.xlabel(\"Prediksi\")\n",
        "plt.ylabel(\"Aktual\")\n",
        "plt.title(\"Confusion Matrix - Logistic Regression\")\n",
        "plt.show()\n",
        "\n",
        "\n"
      ],
      "metadata": {
        "id": "tMq4QAssNLip",
        "colab": {
          "base_uri": "https://localhost:8080/",
          "height": 653
        },
        "outputId": "a86e12c8-51aa-452e-a209-b3fdc5852017"
      },
      "execution_count": 62,
      "outputs": [
        {
          "output_type": "stream",
          "name": "stdout",
          "text": [
            "Akurasi Model: 0.9397321428571429\n",
            "\n",
            "Laporan Klasifikasi:\n",
            "               precision    recall  f1-score   support\n",
            "\n",
            "           0       0.95      0.95      0.95       259\n",
            "           1       0.93      0.93      0.93       189\n",
            "\n",
            "    accuracy                           0.94       448\n",
            "   macro avg       0.94      0.94      0.94       448\n",
            "weighted avg       0.94      0.94      0.94       448\n",
            "\n",
            "Akurasi Training: 0.9202\n",
            "Akurasi Testing : 0.9397\n"
          ]
        },
        {
          "output_type": "display_data",
          "data": {
            "text/plain": [
              "<Figure size 500x400 with 2 Axes>"
            ],
            "image/png": "[encoded data removed]"
          },
          "metadata": {}
        }
      ]
    },
    {
      "cell_type": "markdown",
      "source": [
        "Logistic Regression adalah model yang sering digunakan untuk klasifikasi biner karena sifatnya yang sederhana dan mudah diinterpretasikan. Model ini menunjukkan akurasi sebesar 93.97% pada data pengujian dan 92.02% pada data pelatihan, yang mengindikasikan bahwa model mampu belajar dengan baik tanpa indikasi overfitting atau underfitting. Akurasi yang cukup tinggi ini menunjukkan bahwa model dapat mengklasifikasikan data dengan tingkat kesalahan yang rendah.\n",
        "\n",
        "Berdasarkan laporan klasifikasi, precision untuk kelas 0 adalah 95% dan untuk kelas 1 adalah 93%, sementara recall untuk kelas 0 mencapai 95% dan kelas 1 93%. Nilai F1-score juga menunjukkan keseimbangan, dengan 95% untuk kelas 0 dan 93% untuk kelas 1. Dengan keseimbangan antara precision dan recall, model ini dapat mengenali kedua kelas dengan baik, meskipun masih terdapat beberapa kesalahan klasifikasi.\n",
        "\n",
        "Dari analisis kesalahan klasifikasi, model menghasilkan beberapa False Positives (FP), di mana sampel negatif diklasifikasikan sebagai positif, serta False Negatives (FN), di mana sampel positif diklasifikasikan sebagai negatif. Namun, jumlah kesalahan ini relatif kecil, sehingga model tetap dapat diandalkan. Dengan akurasi yang tinggi serta keseimbangan dalam precision dan recall, model Logistic Regression ini terbukti efektif untuk tugas klasifikasi yang diberikan."
      ],
      "metadata": {
        "id": "expYty_MFfha"
      }
    },
    {
      "cell_type": "code",
      "source": [
        "# Evaluasi Model\n",
        "print(\" Decision Tree Results \")\n",
        "print(\"Accuracy:\", accuracy_score(y_test, y_pred_dt))\n",
        "print(classification_report(y_test, y_pred_dt))\n",
        "\n",
        "train_accuracy_dt = accuracy_score(y_train, dt_model.predict(X_train))  # Use the correct variable name\n",
        "print(f\"Akurasi Training: {train_accuracy_dt:.4f}\")\n",
        "print(f\"Akurasi Testing : {accuracy_score(y_test, y_pred_dt):.4f}\")\n",
        "\n",
        "# Confusion Matrix\n",
        "plt.figure(figsize=(5,4))\n",
        "sns.heatmap(confusion_matrix(y_test, y_pred_dt), annot=True, fmt='d', cmap='Oranges', xticklabels=[0,1], yticklabels=[0,1])\n",
        "plt.xlabel(\"Predicted Label\")\n",
        "plt.ylabel(\"True Label\")\n",
        "plt.title(\"Confusion Matrix - Decision Tree\")\n",
        "plt.show()"
      ],
      "metadata": {
        "colab": {
          "base_uri": "https://localhost:8080/",
          "height": 636
        },
        "id": "NknrBViiCPHx",
        "outputId": "060fb4aa-35dd-4d6d-eb49-75bd99a3ff47"
      },
      "execution_count": 63,
      "outputs": [
        {
          "output_type": "stream",
          "name": "stdout",
          "text": [
            " Decision Tree Results \n",
            "Accuracy: 0.9375\n",
            "              precision    recall  f1-score   support\n",
            "\n",
            "           0       0.94      0.96      0.95       259\n",
            "           1       0.94      0.91      0.92       189\n",
            "\n",
            "    accuracy                           0.94       448\n",
            "   macro avg       0.94      0.93      0.94       448\n",
            "weighted avg       0.94      0.94      0.94       448\n",
            "\n",
            "Akurasi Training: 1.0000\n",
            "Akurasi Testing : 0.9375\n"
          ]
        },
        {
          "output_type": "display_data",
          "data": {
            "text/plain": [
              "<Figure size 500x400 with 2 Axes>"
            ],
            "image/png": "[encoded data removed]"
          },
          "metadata": {}
        }
      ]
    },
    {
      "cell_type": "markdown",
      "source": [
        "Decision Tree adalah model yang sering digunakan untuk klasifikasi karena kemampuannya dalam menangkap pola kompleks dalam data. Model ini menunjukkan akurasi sebesar 93.75% pada data pengujian dan 100% pada data pelatihan, yang menandakan bahwa model sangat baik dalam mengenali pola dari data training, tetapi berpotensi mengalami overfitting. Akurasi yang tinggi pada data pengujian menunjukkan bahwa model tetap memiliki performa yang baik, meskipun ada indikasi bahwa model terlalu spesifik terhadap data pelatihan.\n",
        "\n",
        "Berdasarkan laporan klasifikasi, precision untuk kelas 0 dan 1 masing-masing sebesar 94%, sedangkan recall untuk kelas 0 adalah 96% dan kelas 1 adalah 91%. Nilai F1-score menunjukkan keseimbangan antara precision dan recall, yaitu 95% untuk kelas 0 dan 92% untuk kelas 1. Dari hasil ini, dapat disimpulkan bahwa model cukup baik dalam mengklasifikasikan kedua kelas, meskipun recall pada kelas 1 sedikit lebih rendah dibandingkan kelas 0, yang berarti ada beberapa sampel positif yang diklasifikasikan sebagai negatif.\n",
        "\n",
        "Dari segi overfitting, Decision Tree cenderung lebih rentan dibandingkan model lainnya, terutama karena akurasi training yang mencapai 100%. Hal ini menunjukkan bahwa model mungkin terlalu spesifik terhadap data pelatihan, sehingga kurang mampu menggeneralisasi pada data baru. Untuk mengatasi hal ini, perlu dilakukan tuning hyperparameter, seperti pruning atau pengaturan kedalaman pohon, agar model tidak terlalu kompleks. Jika overfitting tidak dikontrol, performa model dapat menurun ketika diterapkan pada data di luar training set."
      ],
      "metadata": {
        "id": "xHGTW9d5GU2x"
      }
    },
    {
      "cell_type": "code",
      "source": [
        "# Output hasil evaluasi\n",
        "print(\"\\n Evaluasi SVM (Tanpa Tuning) \")\n",
        "print(f\"Akurasi Training: {train_accuracy_svm:.4f}\")\n",
        "print(f\"Akurasi Testing : {test_accuracy_svm:.4f}\")\n",
        "print(\"\\nLaporan Klasifikasi SVM:\\n\", classification_report(y_test, y_test_pred_svm))\n",
        "\n",
        "# Confusion Matrix\n",
        "plt.figure(figsize=(5, 4))\n",
        "sns.heatmap(confusion_matrix(y_test, y_test_pred_svm), annot=True, fmt='d', cmap='Blues', xticklabels=[0,1], yticklabels=[0,1])\n",
        "plt.xlabel(\"Predicted Label\")\n",
        "plt.ylabel(\"True Label\")\n",
        "plt.title(\"Confusion Matrix - SVM (Tanpa Tuning)\")\n",
        "plt.show()"
      ],
      "metadata": {
        "colab": {
          "base_uri": "https://localhost:8080/",
          "height": 670
        },
        "id": "y2Mb7HvICZef",
        "outputId": "3b9e7ae6-0d85-4c3c-88f2-ad872c571e1a"
      },
      "execution_count": 64,
      "outputs": [
        {
          "output_type": "stream",
          "name": "stdout",
          "text": [
            "\n",
            "🔹 Evaluasi SVM (Tanpa Tuning) 🔹\n",
            "Akurasi Training: 0.8990\n",
            "Akurasi Testing : 0.8839\n",
            "\n",
            "Laporan Klasifikasi SVM:\n",
            "               precision    recall  f1-score   support\n",
            "\n",
            "           0       0.90      0.90      0.90       259\n",
            "           1       0.86      0.87      0.86       189\n",
            "\n",
            "    accuracy                           0.88       448\n",
            "   macro avg       0.88      0.88      0.88       448\n",
            "weighted avg       0.88      0.88      0.88       448\n",
            "\n"
          ]
        },
        {
          "output_type": "display_data",
          "data": {
            "text/plain": [
              "<Figure size 500x400 with 2 Axes>"
            ],
            "image/png": "[encoded data removed]"
          },
          "metadata": {}
        }
      ]
    },
    {
      "cell_type": "markdown",
      "source": [
        "Support Vector Machine (SVM) tanpa tuning menunjukkan akurasi sebesar 88.39% pada data pengujian dan 89.90% pada data pelatihan, yang mengindikasikan bahwa model memiliki performa yang cukup baik. Perbedaan kecil antara akurasi training dan testing menunjukkan bahwa model tidak mengalami overfitting yang signifikan, tetapi masih bisa dioptimalkan lebih lanjut melalui tuning parameter.\n",
        "\n",
        "Berdasarkan laporan klasifikasi, precision untuk kelas 0 adalah 90% dan kelas 1 adalah 86%, sementara recall untuk kelas 0 adalah 90% dan kelas 1 adalah 87%. Nilai F1-score juga cukup seimbang, yaitu 90% untuk kelas 0 dan 86% untuk kelas 1. Berdasarkan confusion matrix, model berhasil mengklasifikasikan 232 sampel True Negative (TN) dan 164 sampel True Positive (TP) dengan baik. Namun, masih terdapat 27 False Positives (FP) di mana sampel negatif diklasifikasikan sebagai positif, serta 25 False Negatives (FN) di mana sampel positif diklasifikasikan sebagai negatif.\n",
        "\n",
        "Dari segi generalisasi, model SVM tanpa tuning masih dapat ditingkatkan lebih lanjut. Dengan akurasi training yang lebih tinggi dari testing, model belum sepenuhnya optimal dalam menangani data baru. Oleh karena itu, hyperparameter tuning seperti pemilihan kernel yang lebih sesuai, pengaturan parameter C, atau penggunaan teknik normalisasi yang lebih baik dapat membantu meningkatkan performa model. Dengan tuning yang tepat, model SVM dapat memberikan hasil klasifikasi yang lebih akurat dan seimbang antara precision serta recall."
      ],
      "metadata": {
        "id": "buYVOCnN9JmR"
      }
    },
    {
      "cell_type": "markdown",
      "source": [
        "**KESIMPULAN**\n",
        "\n",
        "Berdasarkan evaluasi, Decision Tree memiliki akurasi tertinggi (93.75%) tetapi cenderung overfitting, dengan akurasi pelatihan mencapai 100%. Logistic Regression menunjukkan performa stabil (93.97%) tanpa indikasi overfitting, menjadikannya pilihan yang seimbang. SVM tanpa tuning memiliki akurasi terendah (88.39%) dan masih memerlukan optimasi lebih lanjut. Secara keseluruhan, Decision Tree unggul dalam akurasi, Logistic Regression lebih stabil, dan SVM berpotensi ditingkatkan dengan tuning. Pemilihan model terbaik bergantung pada kebutuhan dan kompleksitas data."
      ],
      "metadata": {
        "id": "v029rgRMLM0s"
      }
    },
    {
      "cell_type": "markdown",
      "source": [
        "## **c. Tuning Model Klasifikasi (Optional)**"
      ],
      "metadata": {
        "id": "ph9yIYDXEPuB"
      }
    },
    {
      "cell_type": "markdown",
      "source": [
        "Gunakan GridSearchCV, RandomizedSearchCV, atau metode lainnya untuk mencari kombinasi hyperparameter terbaik"
      ],
      "metadata": {
        "id": "-Bikx3LINv5e"
      }
    },
    {
      "cell_type": "code",
      "source": [
        "# 1. Tuning Logistic Regression\n",
        "log_reg_params = {\n",
        "    'C': [0.01, 0.1, 1, 10, 100],\n",
        "    'solver': ['liblinear', 'lbfgs']\n",
        "}\n",
        "\n",
        "log_reg = LogisticRegression()\n",
        "log_reg_grid = GridSearchCV(log_reg, log_reg_params, cv=5, scoring='accuracy', n_jobs=-1)\n",
        "log_reg_grid.fit(X_train, y_train)\n",
        "\n",
        "print(\"Best Logistic Regression Parameters:\", log_reg_grid.best_params_)\n",
        "\n"
      ],
      "metadata": {
        "id": "winbFzb8NL95",
        "colab": {
          "base_uri": "https://localhost:8080/"
        },
        "outputId": "8f1bccd9-857c-42f3-9713-7c9a513fe132"
      },
      "execution_count": 65,
      "outputs": [
        {
          "output_type": "stream",
          "name": "stdout",
          "text": [
            "Best Logistic Regression Parameters: {'C': 10, 'solver': 'liblinear'}\n"
          ]
        }
      ]
    },
    {
      "cell_type": "code",
      "source": [
        "# 2. Tuning Decision Tree\n",
        "dt_params = {\n",
        "    'criterion': ['gini', 'entropy'],\n",
        "    'max_depth': [3, 5, 7, 10],\n",
        "    'min_samples_split': [5, 10, 20, 50],\n",
        "    'min_samples_leaf': [1, 5, 10, 20],\n",
        "    'ccp_alpha': [0.01, 0.05, 0.1, 0.2],  # Jika ingin lebih optimal, coba nilai lebih besar\n",
        "    'min_weight_fraction_leaf': [0.0, 0.01, 0.05]\n",
        "}\n",
        "\n",
        "dt = DecisionTreeClassifier()\n",
        "dt_grid = GridSearchCV(dt, dt_params, cv=5, scoring='accuracy', n_jobs=-1)\n",
        "dt_grid.fit(X_train, y_train)\n",
        "\n",
        "print(\"Best Decision Tree Parameters:\", dt_grid.best_params_)\n",
        "\n",
        "# Gunakan Cross-Validation untuk hasil lebih stabil\n",
        "from sklearn.model_selection import cross_val_score\n",
        "\n",
        "best_dt = dt_grid.best_estimator_\n",
        "cv_scores = cross_val_score(best_dt, X_train, y_train, cv=5)"
      ],
      "metadata": {
        "colab": {
          "base_uri": "https://localhost:8080/"
        },
        "id": "-_K-7eyVNecC",
        "outputId": "84c7a33f-6a73-4c7c-9d85-31d2d48a41f4"
      },
      "execution_count": 66,
      "outputs": [
        {
          "output_type": "stream",
          "name": "stdout",
          "text": [
            "Best Decision Tree Parameters: {'ccp_alpha': 0.01, 'criterion': 'gini', 'max_depth': 3, 'min_samples_leaf': 5, 'min_samples_split': 20, 'min_weight_fraction_leaf': 0.01}\n"
          ]
        }
      ]
    },
    {
      "cell_type": "code",
      "source": [
        "# Hyperparameter tuning menggunakan RandomizedSearchCV\n",
        "svm_params = {\n",
        "    'C': np.logspace(-2, 2, 5),\n",
        "    'kernel': ['linear', 'rbf'],\n",
        "    'gamma': ['scale', 'auto']\n",
        "}\n",
        "\n",
        "svm = SVC(random_state=42)\n",
        "\n",
        "# RandomizedSearchCV untuk mempercepat tuning\n",
        "svm_random = RandomizedSearchCV(svm, svm_params, n_iter=10, cv=2, scoring='accuracy', n_jobs=-1, random_state=42)\n",
        "svm_random.fit(X_train, y_train)\n",
        "\n",
        "# Model terbaik setelah tuning\n",
        "best_svm = svm_random.best_estimator_\n",
        "\n",
        "# Prediksi\n",
        "y_train_pred_best_svm = best_svm.predict(X_train)\n",
        "y_test_pred_best_svm = best_svm.predict(X_test)"
      ],
      "metadata": {
        "id": "FSnZS5rR1Rn2"
      },
      "execution_count": 67,
      "outputs": []
    },
    {
      "cell_type": "markdown",
      "source": [
        "## **d. Evaluasi Model Klasifikasi setelah Tuning (Optional)**"
      ],
      "metadata": {
        "id": "hE7pqlEPEYzI"
      }
    },
    {
      "cell_type": "markdown",
      "source": [
        "Berikut adalah rekomendasi tahapannya.\n",
        "1. Gunakan model dengan hyperparameter terbaik.\n",
        "2. Hitung ulang metrik evaluasi untuk melihat apakah ada peningkatan performa."
      ],
      "metadata": {
        "id": "feaPESoeN0zz"
      }
    },
    {
      "cell_type": "code",
      "source": [
        "# Menggunakan model dengan hyperparameter terbaik\n",
        "best_log_reg = log_reg_grid.best_estimator_\n",
        "y_pred_log = best_log_reg.predict(X_test)\n",
        "\n",
        "# Calculate training accuracy\n",
        "y_train_pred_log = best_log_reg.predict(X_train) # predict on training data\n",
        "train_accuracy = accuracy_score(y_train, y_train_pred_log)\n",
        "\n",
        "# Calculate testing accuracy\n",
        "test_accuracy = accuracy_score(y_test, y_pred_log)\n",
        "\n",
        "\n",
        "# Evaluasi Cross-Validation\n",
        "cv_scores = cross_val_score(best_log_reg, X_train, y_train, cv=5)\n",
        "\n",
        "# Output hasil\n",
        "print(\"\\nEvaluasi Logistic Regression:\")\n",
        "print(f\"Akurasi Training: {train_accuracy:.4f}\")\n",
        "print(f\"Akurasi Testing: {test_accuracy:.4f}\")\n",
        "print(f\"Cross-Validation Accuracy: {cv_scores.mean():.4f}\")\n",
        "print(\"\\nLaporan Klasifikasi Logistic Regression:\\n\", classification_report(y_test, y_pred_log)) # Use y_pred_log"
      ],
      "metadata": {
        "id": "HTXZRvEeNMb1",
        "colab": {
          "base_uri": "https://localhost:8080/"
        },
        "outputId": "291be534-2105-418f-9f23-c3ddeea4c3df"
      },
      "execution_count": 68,
      "outputs": [
        {
          "output_type": "stream",
          "name": "stdout",
          "text": [
            "\n",
            "Evaluasi Logistic Regression:\n",
            "Akurasi Training: 0.9732\n",
            "Akurasi Testing: 0.9732\n",
            "Cross-Validation Accuracy: 0.9760\n",
            "\n",
            "Laporan Klasifikasi Logistic Regression:\n",
            "               precision    recall  f1-score   support\n",
            "\n",
            "           0       0.96      0.99      0.98       259\n",
            "           1       0.99      0.95      0.97       189\n",
            "\n",
            "    accuracy                           0.97       448\n",
            "   macro avg       0.98      0.97      0.97       448\n",
            "weighted avg       0.97      0.97      0.97       448\n",
            "\n"
          ]
        }
      ]
    },
    {
      "cell_type": "code",
      "source": [
        "# Menggunakan model dengan hyperparameter terbaik\n",
        "best_dt = dt_grid.best_estimator_\n",
        "y_pred_dt = best_dt.predict(X_test)\n",
        "\n",
        "y_train_pred_dt = best_dt.predict(X_train)\n",
        "y_test_pred_dt = best_dt.predict(X_test)\n",
        "# Evaluasi performa\n",
        "print(\"Akurasi Decision Tree Setelah Tuning:\", accuracy_score(y_test, y_pred_dt))\n",
        "print(\"Laporan Klasifikasi Decision Tree:\\n\", classification_report(y_test, y_pred_dt))\n",
        "print(\"Akurasi Training Decision Tree:\", accuracy_score(y_train, y_train_pred_dt))\n",
        "print(\"Akurasi Testing Decision Tree:\", accuracy_score(y_test, y_test_pred_dt))\n",
        "print(f\"Cross-Validation Accuracy: {cv_scores.mean():.4f}\")\n"
      ],
      "metadata": {
        "colab": {
          "base_uri": "https://localhost:8080/"
        },
        "id": "2_rp9wdiOXtZ",
        "outputId": "0884f7e0-b04b-4da6-f570-61f3da4183cd"
      },
      "execution_count": 69,
      "outputs": [
        {
          "output_type": "stream",
          "name": "stdout",
          "text": [
            "Akurasi Decision Tree Setelah Tuning: 0.9330357142857143\n",
            "Laporan Klasifikasi Decision Tree:\n",
            "               precision    recall  f1-score   support\n",
            "\n",
            "           0       0.96      0.93      0.94       259\n",
            "           1       0.90      0.94      0.92       189\n",
            "\n",
            "    accuracy                           0.93       448\n",
            "   macro avg       0.93      0.93      0.93       448\n",
            "weighted avg       0.93      0.93      0.93       448\n",
            "\n",
            "Akurasi Training Decision Tree: 0.953125\n",
            "Akurasi Testing Decision Tree: 0.9330357142857143\n",
            "Cross-Validation Accuracy: 0.9760\n"
          ]
        }
      ]
    },
    {
      "cell_type": "code",
      "source": [
        "# Evaluasi akurasi training & testing\n",
        "train_accuracy_best_svm = accuracy_score(y_train, y_train_pred_best_svm)\n",
        "test_accuracy_best_svm = accuracy_score(y_test, y_test_pred_best_svm)\n",
        "\n",
        "# Evaluasi Cross-Validation\n",
        "cv_scores_svm = cross_val_score(best_svm, X_train, y_train, cv=2)\n",
        "\n",
        "# Output hasil evaluasi\n",
        "print(\"\\n🔹 Evaluasi SVM (Setelah Tuning) 🔹\")\n",
        "print(f\"Akurasi Training: {train_accuracy_best_svm:.4f}\")\n",
        "print(f\"Akurasi Testing : {test_accuracy_best_svm:.4f}\")\n",
        "print(f\"Cross-Validation Accuracy: {cv_scores_svm.mean():.4f}\")\n",
        "print(\"\\nLaporan Klasifikasi SVM:\\n\", classification_report(y_test, y_test_pred_best_svm))\n",
        "\n"
      ],
      "metadata": {
        "colab": {
          "base_uri": "https://localhost:8080/"
        },
        "id": "lce8aai0OaFk",
        "outputId": "fc1ed444-02dd-4fc7-e426-add4e005828c"
      },
      "execution_count": 70,
      "outputs": [
        {
          "output_type": "stream",
          "name": "stdout",
          "text": [
            "\n",
            "🔹 Evaluasi SVM (Setelah Tuning) 🔹\n",
            "Akurasi Training: 0.9732\n",
            "Akurasi Testing : 0.9688\n",
            "Cross-Validation Accuracy: 0.9693\n",
            "\n",
            "Laporan Klasifikasi SVM:\n",
            "               precision    recall  f1-score   support\n",
            "\n",
            "           0       0.96      0.99      0.97       259\n",
            "           1       0.99      0.94      0.96       189\n",
            "\n",
            "    accuracy                           0.97       448\n",
            "   macro avg       0.97      0.96      0.97       448\n",
            "weighted avg       0.97      0.97      0.97       448\n",
            "\n"
          ]
        }
      ]
    },
    {
      "cell_type": "markdown",
      "source": [
        "## **e. Analisis Hasil Evaluasi Model Klasifikasi**"
      ],
      "metadata": {
        "id": "ZRsOdm4uEgAW"
      }
    },
    {
      "cell_type": "markdown",
      "source": [
        "Berikut adalah **rekomendasi** tahapannya.\n",
        "1. Bandingkan hasil evaluasi sebelum dan setelah tuning.\n",
        "  - Logistic Regression: Akurasinya meningkat dari 93.97% menjadi 97.32%, menunjukkan bahwa tuning hyperparameter berhasil meningkatkan performa model.\n",
        "  - Decision Tree: Sedikit mengalami penurunan dari 93.75% ke 93.30%, tetapi tetap stabil dengan generalisasi yang lebih baik.\n",
        "  - SVM: Akurasinya meningkat dari 88.39% menjadi 96.88%, menunjukkan peningkatan performa yang sangat signifikan setelah tuning.\n",
        "\n",
        "2. Identifikasi model, seperti:\n",
        "  1. Logistic Regression\n",
        "  - Precision & Recall:\n",
        "    - Precision kelas 0 meningkat dari 95% ke 96%, recall naik dari 95% ke 99%. Artinya model lebih baik dalam mengenali kelas negatif.\n",
        "    - Recall kelas 1 naik dari 94% menjadi 95%, menunjukkan model lebih sensitif terhadap kelas positif.\n",
        "    - Precision kelas 1 tetap tinggi di 99%.\n",
        "\n",
        "  - Overfitting / Underfitting:\n",
        "  \n",
        "    Tidak ada indikasi overfitting karena peningkatan performa terjadi di semua metrik tanpa kehilangan generalisasi.\n",
        "\n",
        "    Sebelum tuning, model sedikit kesulitan mengenali kelas 1 (recall lebih rendah), tetapi setelah tuning, perbedaan antar kelas lebih kecil.\n",
        "\n",
        "  2. Decision Tree\n",
        "  - Precision & Recall:\n",
        "    - Precision kelas 0 meningkat dari 94% ke 96%, tetapi recall turun dari 96% ke 93%.\n",
        "    - Precision kelas 1 turun dari 94% ke 90%, recall meningkat dari 91% ke 94%.\n",
        "    - Akurasi turun sedikit dari 93.75% menjadi 93.30%, kemungkinan karena tuning mengurangi kompleksitas model untuk menghindari overfitting.\n",
        "\n",
        "  - Overfitting / Underfitting:\n",
        "    Sebelum tuning, model mungkin mengalami overfitting dengan akurasi training 100%.\n",
        "\n",
        "    Setelah tuning, akurasi training turun ke 95.31%, menunjukkan generalisasi yang lebih baik.\n",
        "\n",
        "  3. SVM\n",
        "  - Precision & Recall:\n",
        "    - Precision kelas 0 meningkat dari 90% ke 96%, recall naik dari 90% ke 99%.\n",
        "    - Precision kelas 1 meningkat dari 86% ke 99%, recall turun dari 87% ke 94%.\n",
        "    - Model lebih akurat dalam mengenali kedua kelas setelah tuning.\n",
        "    - Sebelum tuning, akurasi testing hanya 88.39%, menunjukkan model belum optimal dalam menangani data uji.\n",
        "    - Setelah tuning, akurasi meningkat drastis menjadi 96.88%, menunjukkan bahwa model kini jauh lebih baik dalam mengenali pola dari dataset.\n",
        "\n",
        "  - Overfitting / Underfitting:\n",
        "   \n",
        "    Sebelum tuning, model memiliki akurasi lebih rendah karena kurang optimal.\n",
        "   \n",
        "    Setelah tuning, akurasi meningkat signifikan tanpa tanda overfitting.\n",
        "\n",
        "3. Berikan rekomendasi tindakan lanjutan, seperti mengumpulkan data tambahan atau mencoba algoritma lain jika hasil belum memuaskan.\n",
        "\n",
        "  1. Mencoba Algoritma Lain\n",
        "    \n",
        "    XGBoost, LightGBM, atau model lain bisa diuji untuk melihat apakah mereka dapat memberikan akurasi lebih tinggi atau waktu inferensi lebih cepat\n",
        "\n",
        "  2. Evaluasi dengan Data\n",
        "    Jika model akan digunakan di industri, penting untuk menguji performanya dengan data baru yang belum pernah digunakan sebelumnya agar melihat adaptasinya.\n",
        "  \n",
        "  3. Mengumpulkan Data Tambahan\n",
        "    Jika dirasa dataset saat ini masih terbatas atau tidak cukup representatif, maka dapat menambahkan lebih banyak data, terutama dari kelas yang mungkin kurang terwakili. tapi dataset yang digunakan ini sudah melalui proses clustering di awal yang bisa digunakan untuk memahami pola lebih lanjut."
      ],
      "metadata": {
        "id": "Hm3BhSi6N4_l"
      }
    },
    {
      "cell_type": "markdown",
      "source": [
        "**KESIMPULAN**\n",
        "\n",
        "Berdasarkan hasil evaluasi, SVM merupakan model terbaik karena mengalami peningkatan akurasi signifikan dari 88.39% menjadi 96.88% setelah tuning, tanpa indikasi overfitting atau underfitting. Model ini mampu mengenali pola data dengan baik dan memiliki keseimbangan precision serta recall yang optimal.\n",
        "\n",
        "Logistic Regression juga menunjukkan performa stabil dengan akurasi meningkat dari 93.97% menjadi 97.32%, tetap generalisasi dengan baik, dan efektif dalam mengenali kelas negatif.\n",
        "\n",
        "Sementara itu, Decision Tree mengalami sedikit penurunan akurasi dari 93.75% ke 93.30%, tetapi generalisasinya lebih baik setelah tuning.\n",
        "\n",
        "Secara keseluruhan, SVM menjadi pilihan terbaik karena memiliki akurasi tinggi, kemampuan generalisasi yang baik, serta ketahanan terhadap overfitting dan underfitting, menjadikannya model yang paling optimal dalam mengenali data baru."
      ],
      "metadata": {
        "id": "E2T6elsAVDyU"
      }
    }
  ]
}